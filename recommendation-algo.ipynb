{
 "cells": [
  {
   "cell_type": "code",
   "execution_count": 3,
   "id": "unavailable-miller",
   "metadata": {},
   "outputs": [],
   "source": [
    "import numpy as np\n",
    "import pandas as pd"
   ]
  },
  {
   "cell_type": "code",
   "execution_count": 6,
   "id": "loving-halifax",
   "metadata": {},
   "outputs": [],
   "source": [
    "from sklearn.feature_extraction.text import CountVectorizer"
   ]
  },
  {
   "cell_type": "code",
   "execution_count": 7,
   "id": "opened-marketing",
   "metadata": {},
   "outputs": [
    {
     "name": "stdout",
     "output_type": "stream",
     "text": [
      "['london' 'paris']\n",
      "[[2 1]\n",
      " [1 2]]\n"
     ]
    }
   ],
   "source": [
    "text = [\"London Paris London\", \"Paris Paris London\"]\n",
    "cv = CountVectorizer() #represents text as vectors/matrix\n",
    "count_matrix = cv.fit_transform(text) #result is a sparse matrix\n",
    "\n",
    "print(cv.get_feature_names_out()) #outputs the feature list given to cv\n",
    "print(count_matrix.toarray())\n",
    "\n",
    "#The output indicates that the word london appears 2 times in the first string of text (A) and once in the second string (B)\n",
    "#Now we need to find the cosine similarity between vectors to see how similar they are"
   ]
  },
  {
   "cell_type": "code",
   "execution_count": 8,
   "id": "graduate-lewis",
   "metadata": {},
   "outputs": [],
   "source": [
    "from sklearn.metrics.pairwise import cosine_similarity"
   ]
  },
  {
   "cell_type": "code",
   "execution_count": 9,
   "id": "built-context",
   "metadata": {},
   "outputs": [
    {
     "name": "stdout",
     "output_type": "stream",
     "text": [
      "[[1.  0.8]\n",
      " [0.8 1. ]]\n"
     ]
    }
   ],
   "source": [
    "similarity_scores = cosine_similarity(count_matrix)\n",
    "print(similarity_scores)\n",
    "\n",
    "#Output is interpreted as follows:\n",
    "#        Text A(string 1)        Text B(string 2)\n",
    "#\n",
    "#Text A    1.            0.8\n",
    "#\n",
    "#Text B    0.8           1.\n",
    "\n",
    "#Text A is similar to itself 100% and Text A is similar to Text B 80% (symmetric matrix)"
   ]
  }
 ],
 "metadata": {
  "kernelspec": {
   "display_name": "Python 3",
   "language": "python",
   "name": "python3"
  },
  "language_info": {
   "codemirror_mode": {
    "name": "ipython",
    "version": 3
   },
   "file_extension": ".py",
   "mimetype": "text/x-python",
   "name": "python",
   "nbconvert_exporter": "python",
   "pygments_lexer": "ipython3",
   "version": "3.8.0"
  }
 },
 "nbformat": 4,
 "nbformat_minor": 5
}
