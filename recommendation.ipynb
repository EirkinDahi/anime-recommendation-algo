{
 "cells": [
  {
   "cell_type": "code",
   "execution_count": null,
   "id": "willing-psychology",
   "metadata": {},
   "outputs": [],
   "source": [
    "import numpy as np\n",
    "import pandas as pd"
   ]
  },
  {
   "cell_type": "code",
   "execution_count": null,
   "id": "9c936c38",
   "metadata": {},
   "outputs": [],
   "source": [
    "from sklearn.feature_extraction.text import CountVectorizer"
   ]
  },
  {
   "cell_type": "code",
   "execution_count": null,
   "id": "ccabc9c8",
   "metadata": {},
   "outputs": [],
   "source": [
    "text = [\"London Paris London\", \"Paris Paris London\"]\n",
    "cv = CountVectorizer() #represents text as vectors/matrix\n",
    "count_matrix = cv.fit_transform(text) #result is a sparse matrix\n",
    "\n",
    "print(cv.get_feature_names_out()) #outputs the feature list given to cv\n",
    "print(count_matrix.toarray())\n",
    "\n",
    "#The output indicates that the word london appears 2 times in the first string of text (A) and once in the second string (B)\n",
    "#Now we need to find the cosine similarity between vectors to see how similar they are"
   ]
  },
  {
   "cell_type": "code",
   "execution_count": null,
   "id": "43dc9cd6",
   "metadata": {},
   "outputs": [],
   "source": [
    "from sklearn.metrics.pairwise import cosine_similarity"
   ]
  },
  {
   "cell_type": "code",
   "execution_count": null,
   "id": "aa1e406d",
   "metadata": {},
   "outputs": [],
   "source": [
    "similarity_scores = cosine_similarity(count_matrix)\n",
    "print(similarity_scores)\n",
    "\n",
    "#Output is interpreted as follows:\n",
    "#        Text A(string 1)        Text B(string 2)\n",
    "#\n",
    "#Text A    1.                      0.8\n",
    "#\n",
    "#Text B    0.8                     1.\n",
    "\n",
    "#Text A is similar to itself 100% and Text A is similar to Text B 80% (symmetric matrix)"
   ]
  },
  {
   "cell_type": "code",
   "execution_count": null,
   "id": "5d272d14",
   "metadata": {},
   "outputs": [],
   "source": [
    "df = pd.read_csv(\"anime.csv\")\n",
    "df= df.reset_index()\n",
    "#df.head()\n",
    "\n",
    "df.columns\n",
    "features = [\"Score\",\"Rating\",\"Producers\",\"Ranked\",\"Plan to Watch\",\"Popularity\",\"Type\",\"Genres\"]\n",
    "\n",
    "def combine_features(r):\n",
    "    return str(r['Score']) + \" \" + str(r['Rating']) + \" \" + r['Producers'] + \" \" + str(r['Ranked']) + \" \" + str(r['Plan to Watch']) + \" \" +str(r['Popularity']) + \" \" +r['Type'] + \" \" + r['Genres']\n",
    "\n",
    "for feature in features:\n",
    "    df[feature] = df[feature].fillna(\"\")\n",
    "df[\"combined_features\"] = df.apply(combine_features,axis =1)\n",
    "\n",
    "df.head()"
   ]
  },
  {
   "cell_type": "code",
   "execution_count": null,
   "id": "7b5ae58c",
   "metadata": {},
   "outputs": [],
   "source": [
    "cv_anime = CountVectorizer()\n",
    "count_matrix_anime = cv_anime.fit_transform(df[\"combined_features\"])\n",
    "\n",
    "cosine_similarity_anime = cosine_similarity(count_matrix_anime)"
   ]
  },
  {
   "cell_type": "code",
   "execution_count": null,
   "id": "8c8acf26",
   "metadata": {},
   "outputs": [],
   "source": [
    "def get_id_from_title(name):\n",
    "    return df[df.Name == name][\"index\"].values[0]\n",
    "\n",
    "def get_title_from_id(id):\n",
    "    return df[df.index == id][\"Name\"].values[0]"
   ]
  },
  {
   "cell_type": "code",
   "execution_count": 80,
   "id": "5c37a08e",
   "metadata": {},
   "outputs": [
    {
     "name": "stdout",
     "output_type": "stream",
     "text": [
      "Top 10 Recommendations for One Piece :\n",
      "Hunter x Hunter\n",
      "One Piece: Episode of Nami - Koukaishi no Namida to Nakama no Kizuna\n",
      "One Piece: Episode of Merry - Mou Hitori no Nakama no Monogatari\n",
      "One Piece: Episode of Sabo - 3 Kyoudai no Kizuna Kiseki no Saikai to Uketsugareru Ishi\n",
      "One Piece: Long Ring Long Land-hen\n",
      "One Piece: Adventure of Nebulandia\n",
      "Dragon Ball Z\n",
      "Dragon Ball\n",
      "Dragon Ball GT\n",
      "Toriko\n"
     ]
    }
   ],
   "source": [
    "anime_user = \"One Piece\"\n",
    "anime_index = get_id_from_title(anime_user)\n",
    "similar_animes = list(enumerate(cosine_similarity_anime[anime_index]))\n",
    "\n",
    "sorted_anime_recommendations = sorted(similar_animes,key=lambda x:x[1], reverse = True)[1:]\n",
    "# print(sorted_anime_recommendations)\n",
    "\n",
    "print(\"Top 10 Recommendations for \" + anime_user + \" :\")\n",
    "for i in range(10):\n",
    "    print(get_title_from_id(sorted_anime_recommendations[i][0]))\n"
   ]
  }
 ],
 "metadata": {
  "kernelspec": {
   "display_name": "Python 3",
   "language": "python",
   "name": "python3"
  },
  "language_info": {
   "codemirror_mode": {
    "name": "ipython",
    "version": 3
   },
   "file_extension": ".py",
   "mimetype": "text/x-python",
   "name": "python",
   "nbconvert_exporter": "python",
   "pygments_lexer": "ipython3",
   "version": "3.10.1"
  }
 },
 "nbformat": 4,
 "nbformat_minor": 5
}
